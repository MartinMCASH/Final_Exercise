{
 "cells": [
  {
   "cell_type": "markdown",
   "id": "59872d9b-9b11-49ab-ba4f-8224ffbdc20d",
   "metadata": {},
   "source": [
    "# Data Science Tools and Ecosystems"
   ]
  },
  {
   "cell_type": "markdown",
   "id": "50179912-a272-492b-ba58-5822c47b14fb",
   "metadata": {},
   "source": [
    "In this notebook, Data Science Tools and Ecosystems are summarized."
   ]
  },
  {
   "cell_type": "markdown",
   "id": "d98c6725-794f-4507-be20-d289a99d882b",
   "metadata": {},
   "source": [
    "**Objectives**\n",
    "* How to create a Jupyter Notebook \n",
    "* How to share a Jupyter Notebook \n",
    "* How to use markdown cells\n",
    "* How to create and use arithmetic expressions\n",
    "* How to insert tables in a Jupyter Notebook\n"
   ]
  },
  {
   "cell_type": "markdown",
   "id": "e4b2b286-7b9e-42c5-8373-1da3b1693c30",
   "metadata": {},
   "source": [
    "Some of the popular languages that Data Scientists use are:"
   ]
  },
  {
   "cell_type": "markdown",
   "id": "5b25eb60-e3b8-4c9e-a4eb-f3f00cc2bac2",
   "metadata": {},
   "source": [
    "1. Python\n",
    "2. R\n",
    "3. SQL"
   ]
  },
  {
   "cell_type": "markdown",
   "id": "c3e82f67-14dc-47a6-8df3-3c0f36b6ec1a",
   "metadata": {
    "tags": []
   },
   "source": [
    "Some of the commonly used libraries used by Data Scientists include:"
   ]
  },
  {
   "cell_type": "markdown",
   "id": "5707c6fe-2db2-44c0-b5eb-ede789285f66",
   "metadata": {
    "tags": []
   },
   "source": [
    "1. NumPy\n",
    "2. Pandas\n",
    "3. Matplotlib"
   ]
  },
  {
   "cell_type": "markdown",
   "id": "93266154-a17f-49cb-bde3-33ed9aa831e8",
   "metadata": {
    "tags": []
   },
   "source": [
    "|Data Science Tools|\n",
    "|------------------|\n",
    "|Jupyter Notebooks|\n",
    "|Weka|\n",
    "|Scrapy|"
   ]
  },
  {
   "cell_type": "markdown",
   "id": "8105a3f7-d22f-4dfe-ba14-97d757c2f492",
   "metadata": {
    "tags": []
   },
   "source": [
    "### Below are a few examples of evaluating arithmetic expressions in Python"
   ]
  },
  {
   "cell_type": "code",
   "execution_count": 3,
   "id": "464cdeb9-218a-4cfe-900d-714fb221b4c2",
   "metadata": {
    "tags": []
   },
   "outputs": [
    {
     "data": {
      "text/plain": [
       "17"
      ]
     },
     "execution_count": 3,
     "metadata": {},
     "output_type": "execute_result"
    }
   ],
   "source": [
    "# This a simple arithmetic expression to mutiply then add integers:\n",
    "(3*4)+5"
   ]
  },
  {
   "cell_type": "code",
   "execution_count": 7,
   "id": "682ae2d1-19bf-41e5-a580-3b9f2949674d",
   "metadata": {
    "tags": []
   },
   "outputs": [
    {
     "name": "stdout",
     "output_type": "stream",
     "text": [
      "3.3333333333333335\n"
     ]
    }
   ],
   "source": [
    "# This code converts minutes to hours. Insert minutes, the hours will be calculated running the code below.\n",
    "minutes = 200\n",
    "# Run the script\n",
    "print(minutes / 60)\n"
   ]
  },
  {
   "cell_type": "markdown",
   "id": "8ebe05ba-62b0-479b-a691-05935b304bc9",
   "metadata": {},
   "source": [
    "## Author\n",
    "Martin C.A. Stekelenburg-Hagemans"
   ]
  },
  {
   "cell_type": "code",
   "execution_count": null,
   "id": "ae85a777-89a1-4ad8-b702-79245060f498",
   "metadata": {},
   "outputs": [],
   "source": []
  }
 ],
 "metadata": {
  "kernelspec": {
   "display_name": "Python",
   "language": "python",
   "name": "conda-env-python-py"
  },
  "language_info": {
   "codemirror_mode": {
    "name": "ipython",
    "version": 3
   },
   "file_extension": ".py",
   "mimetype": "text/x-python",
   "name": "python",
   "nbconvert_exporter": "python",
   "pygments_lexer": "ipython3",
   "version": "3.7.12"
  }
 },
 "nbformat": 4,
 "nbformat_minor": 5
}
